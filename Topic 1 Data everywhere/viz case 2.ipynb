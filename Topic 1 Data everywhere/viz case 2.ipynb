{
 "cells": [
  {
   "cell_type": "code",
   "execution_count": 2,
   "id": "23ec83be",
   "metadata": {},
   "outputs": [
    {
     "data": {
      "text/html": [
       "<div>\n",
       "<style scoped>\n",
       "    .dataframe tbody tr th:only-of-type {\n",
       "        vertical-align: middle;\n",
       "    }\n",
       "\n",
       "    .dataframe tbody tr th {\n",
       "        vertical-align: top;\n",
       "    }\n",
       "\n",
       "    .dataframe thead th {\n",
       "        text-align: right;\n",
       "    }\n",
       "</style>\n",
       "<table border=\"1\" class=\"dataframe\">\n",
       "  <thead>\n",
       "    <tr style=\"text-align: right;\">\n",
       "      <th></th>\n",
       "      <th>Patient ID</th>\n",
       "      <th>Gender</th>\n",
       "      <th>Marital Status</th>\n",
       "      <th>City</th>\n",
       "      <th>State</th>\n",
       "      <th>Zip Code</th>\n",
       "      <th>Age</th>\n",
       "      <th>Procedure</th>\n",
       "      <th>Follow-up Attended?</th>\n",
       "    </tr>\n",
       "  </thead>\n",
       "  <tbody>\n",
       "    <tr>\n",
       "      <th>0</th>\n",
       "      <td>11234</td>\n",
       "      <td>M</td>\n",
       "      <td>Married</td>\n",
       "      <td>Allison</td>\n",
       "      <td>CO</td>\n",
       "      <td>81137</td>\n",
       "      <td>62</td>\n",
       "      <td>Extraction</td>\n",
       "      <td>Yes</td>\n",
       "    </tr>\n",
       "    <tr>\n",
       "      <th>1</th>\n",
       "      <td>15620</td>\n",
       "      <td>F</td>\n",
       "      <td>Single</td>\n",
       "      <td>Allison</td>\n",
       "      <td>CO</td>\n",
       "      <td>81137</td>\n",
       "      <td>94</td>\n",
       "      <td>Extraction</td>\n",
       "      <td>No</td>\n",
       "    </tr>\n",
       "    <tr>\n",
       "      <th>2</th>\n",
       "      <td>19622</td>\n",
       "      <td>M</td>\n",
       "      <td>Divorced</td>\n",
       "      <td>Allison</td>\n",
       "      <td>CO</td>\n",
       "      <td>81137</td>\n",
       "      <td>90</td>\n",
       "      <td>Extraction</td>\n",
       "      <td>No</td>\n",
       "    </tr>\n",
       "    <tr>\n",
       "      <th>3</th>\n",
       "      <td>21829</td>\n",
       "      <td>F</td>\n",
       "      <td>Widowed</td>\n",
       "      <td>Allison</td>\n",
       "      <td>CO</td>\n",
       "      <td>81137</td>\n",
       "      <td>81</td>\n",
       "      <td>Crown</td>\n",
       "      <td>No</td>\n",
       "    </tr>\n",
       "    <tr>\n",
       "      <th>4</th>\n",
       "      <td>21962</td>\n",
       "      <td>F</td>\n",
       "      <td>Single</td>\n",
       "      <td>Allison</td>\n",
       "      <td>CO</td>\n",
       "      <td>81137</td>\n",
       "      <td>45</td>\n",
       "      <td>Extraction</td>\n",
       "      <td>Yes</td>\n",
       "    </tr>\n",
       "  </tbody>\n",
       "</table>\n",
       "</div>"
      ],
      "text/plain": [
       "   Patient ID Gender Marital Status     City State  Zip Code  Age   Procedure  \\\n",
       "0       11234      M        Married  Allison    CO     81137   62  Extraction   \n",
       "1       15620      F         Single  Allison    CO     81137   94  Extraction   \n",
       "2       19622      M       Divorced  Allison    CO     81137   90  Extraction   \n",
       "3       21829      F        Widowed  Allison    CO     81137   81       Crown   \n",
       "4       21962      F         Single  Allison    CO     81137   45  Extraction   \n",
       "\n",
       "  Follow-up Attended?  \n",
       "0                 Yes  \n",
       "1                  No  \n",
       "2                  No  \n",
       "3                  No  \n",
       "4                 Yes  "
      ]
     },
     "execution_count": 2,
     "metadata": {},
     "output_type": "execute_result"
    }
   ],
   "source": [
    "import pandas as pd\n",
    "\n",
    "df = pd.read_csv('dataset/data.csv')\n",
    "df.head()"
   ]
  },
  {
   "cell_type": "code",
   "execution_count": 3,
   "id": "2ca486c1",
   "metadata": {},
   "outputs": [
    {
     "data": {
      "text/html": [
       "<div>\n",
       "<style scoped>\n",
       "    .dataframe tbody tr th:only-of-type {\n",
       "        vertical-align: middle;\n",
       "    }\n",
       "\n",
       "    .dataframe tbody tr th {\n",
       "        vertical-align: top;\n",
       "    }\n",
       "\n",
       "    .dataframe thead th {\n",
       "        text-align: right;\n",
       "    }\n",
       "</style>\n",
       "<table border=\"1\" class=\"dataframe\">\n",
       "  <thead>\n",
       "    <tr style=\"text-align: right;\">\n",
       "      <th></th>\n",
       "      <th>Age</th>\n",
       "      <th>Follow-up Attended?</th>\n",
       "    </tr>\n",
       "  </thead>\n",
       "  <tbody>\n",
       "    <tr>\n",
       "      <th>0</th>\n",
       "      <td>62</td>\n",
       "      <td>Yes</td>\n",
       "    </tr>\n",
       "    <tr>\n",
       "      <th>1</th>\n",
       "      <td>94</td>\n",
       "      <td>No</td>\n",
       "    </tr>\n",
       "    <tr>\n",
       "      <th>2</th>\n",
       "      <td>90</td>\n",
       "      <td>No</td>\n",
       "    </tr>\n",
       "    <tr>\n",
       "      <th>3</th>\n",
       "      <td>81</td>\n",
       "      <td>No</td>\n",
       "    </tr>\n",
       "    <tr>\n",
       "      <th>4</th>\n",
       "      <td>45</td>\n",
       "      <td>Yes</td>\n",
       "    </tr>\n",
       "  </tbody>\n",
       "</table>\n",
       "</div>"
      ],
      "text/plain": [
       "   Age Follow-up Attended?\n",
       "0   62                 Yes\n",
       "1   94                  No\n",
       "2   90                  No\n",
       "3   81                  No\n",
       "4   45                 Yes"
      ]
     },
     "execution_count": 3,
     "metadata": {},
     "output_type": "execute_result"
    }
   ],
   "source": [
    "viz = df[['Age', 'Follow-up Attended?']]\n",
    "viz.head()"
   ]
  },
  {
   "cell_type": "code",
   "execution_count": 5,
   "id": "7b4fb634",
   "metadata": {},
   "outputs": [
    {
     "name": "stderr",
     "output_type": "stream",
     "text": [
      "C:\\Users\\ariwh\\AppData\\Local\\Temp/ipykernel_9996/557483798.py:13: SettingWithCopyWarning: \n",
      "A value is trying to be set on a copy of a slice from a DataFrame.\n",
      "Try using .loc[row_indexer,col_indexer] = value instead\n",
      "\n",
      "See the caveats in the documentation: https://pandas.pydata.org/pandas-docs/stable/user_guide/indexing.html#returning-a-view-versus-a-copy\n",
      "  viz['Age_Bin'] = pd.cut(viz['Age'], bins=age_bins, labels=age_labels)\n"
     ]
    },
    {
     "data": {
      "image/png": "[encoded data removed]",
      "text/plain": [
       "<Figure size 432x288 with 1 Axes>"
      ]
     },
     "metadata": {
      "needs_background": "light"
     },
     "output_type": "display_data"
    }
   ],
   "source": [
    "import seaborn as sns\n",
    "import matplotlib.pyplot as plt\n",
    "\n",
    "# Assuming you have a DataFrame called 'data' with columns 'Age' and 'remark'\n",
    "\n",
    "# Define the bin edges for Age\n",
    "age_bins = [24, 40, 56, 72, 88, 104]\n",
    "\n",
    "# Assign labels for each bin\n",
    "age_labels = ['24-40', '40-56', '56-72', '72-88', '88-104']\n",
    "\n",
    "# Create a new column 'Age_Bin' by binning the 'Age' column\n",
    "viz['Age_Bin'] = pd.cut(viz['Age'], bins=age_bins, labels=age_labels)\n",
    "\n",
    "# Plot the data\n",
    "sns.countplot(data=viz, x='Age_Bin', hue='Follow-up Attended?')\n",
    "\n",
    "# Set the labels and title\n",
    "plt.xlabel('Age')\n",
    "plt.ylabel('Count')\n",
    "plt.title('Age Distribution with Follow-up Attended?')\n",
    "\n",
    "# Show the plot\n",
    "plt.show()"
   ]
  },
  {
   "cell_type": "code",
   "execution_count": null,
   "id": "8f8d2a8c",
   "metadata": {},
   "outputs": [],
   "source": []
  }
 ],
 "metadata": {
  "kernelspec": {
   "display_name": "Python 3 (ipykernel)",
   "language": "python",
   "name": "python3"
  },
  "language_info": {
   "codemirror_mode": {
    "name": "ipython",
    "version": 3
   },
   "file_extension": ".py",
   "mimetype": "text/x-python",
   "name": "python",
   "nbconvert_exporter": "python",
   "pygments_lexer": "ipython3",
   "version": "3.9.7"
  }
 },
 "nbformat": 4,
 "nbformat_minor": 5
}
